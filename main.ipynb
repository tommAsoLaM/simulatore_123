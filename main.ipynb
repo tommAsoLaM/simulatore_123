{
 "cells": [
  {
   "cell_type": "markdown",
   "id": "a458e687",
   "metadata": {},
   "source": [
    "#this file is going to simulate the game 123. we suppose to have a deck of 40 cards (neapolitan cards)\n",
    "#the game itself is very simple, we are going to go through the shuffled deck:\n",
    "#we win if in the positions moduled by 1,2 or 3 we get a 1,2 or 3"
   ]
  },
  {
   "cell_type": "code",
   "execution_count": 17,
   "id": "a3b2f302",
   "metadata": {},
   "outputs": [],
   "source": [
    "import random\n",
    "import matplotlib.pyplot as plt\n",
    "from collections import Counter\n",
    "import pandas as pd\n",
    "import numpy as np"
   ]
  },
  {
   "cell_type": "code",
   "execution_count": 18,
   "id": "2df003ce",
   "metadata": {},
   "outputs": [
    {
     "name": "stdout",
     "output_type": "stream",
     "text": [
      "[1, 1, 1, 1, 2, 2, 2, 2, 3, 3, 3, 3, 4, 4, 4, 4, 5, 5, 5, 5, 6, 6, 6, 6, 7, 7, 7, 7, 8, 8, 8, 8, 9, 9, 9, 9, 10, 10, 10, 10]\n"
     ]
    },
    {
     "data": {
      "text/plain": [
       "40"
      ]
     },
     "execution_count": 18,
     "metadata": {},
     "output_type": "execute_result"
    }
   ],
   "source": [
    "#creating the deck\n",
    "deck = []\n",
    "for i in range (1,11):\n",
    "    for j in range (1, 5):\n",
    "        deck.append(i)\n",
    "\n",
    "print(deck)\n",
    "len(deck)\n",
    "#the deck has been created"
   ]
  },
  {
   "cell_type": "code",
   "execution_count": 19,
   "id": "bb409fad",
   "metadata": {},
   "outputs": [],
   "source": [
    "#a simple, optimized and unbiased function to shuffle the deck\n",
    "def shuffle_deck(deck:list):\n",
    "    random.shuffle(deck)\n",
    "    return deck"
   ]
  },
  {
   "cell_type": "code",
   "execution_count": 20,
   "id": "b51bc088",
   "metadata": {},
   "outputs": [],
   "source": [
    "#one game simulation\n",
    "def game(deck):\n",
    "    game_won = True\n",
    "    match_num = 1\n",
    "    deck = shuffle_deck(deck)\n",
    "    for i in range (len(deck)):\n",
    "        if deck[i] == match_num:\n",
    "            game_won = False\n",
    "            break\n",
    "        match_num = (match_num + 1)%4\n",
    "        if match_num == 0: match_num = 1\n",
    "    return game_won"
   ]
  },
  {
   "cell_type": "code",
   "execution_count": 25,
   "id": "e48de3c3",
   "metadata": {},
   "outputs": [],
   "source": [
    "#simulating games over 10000 iterations\n",
    "data = {}\n",
    "for i in range (10000):\n",
    "    times_tried = 1\n",
    "    while game(deck) == False:\n",
    "        times_tried +=1\n",
    "    data[i] = times_tried\n",
    "    "
   ]
  },
  {
   "cell_type": "code",
   "execution_count": 26,
   "id": "1f9e3173",
   "metadata": {},
   "outputs": [
    {
     "name": "stdout",
     "output_type": "stream",
     "text": [
      "average number of attempts = 120.1176\n",
      "maximum number of attempts = 1393\n",
      "minimum number of attempts = 1\n",
      "standard deviation of attempts = 119.46221565934562\n"
     ]
    },
    {
     "data": {
      "image/png": "[encoded data removed]",
      "text/plain": [
       "<Figure size 640x480 with 1 Axes>"
      ]
     },
     "metadata": {},
     "output_type": "display_data"
    }
   ],
   "source": [
    "# Count how many times each number of attempts occurred\n",
    "attempt_counts = Counter(data.values())\n",
    "vet = np.array(list(data.values()))\n",
    "print(f'average number of attempts = {vet.mean()}')\n",
    "print(f'maximum number of attempts = {vet.max()}')\n",
    "print(f'minimum number of attempts = {vet.min()}')\n",
    "print(f'standard deviation of attempts = {vet.std()}')\n",
    "# Sort by number of attempts\n",
    "attempts = sorted(attempt_counts.keys())\n",
    "frequencies = [attempt_counts[a] for a in attempts]\n",
    "\n",
    "plt.bar(attempts, frequencies)\n",
    "plt.xlabel('Attempts before win')\n",
    "plt.ylabel('Number of games')\n",
    "plt.title('Distribution of attempts needed to win')\n",
    "plt.show()"
   ]
  },
  {
   "cell_type": "code",
   "execution_count": 23,
   "id": "1cdd71ea",
   "metadata": {},
   "outputs": [],
   "source": [
    "# Save the data dictionary to a CSV file\n",
    "df = pd.DataFrame(list(data.items()), columns=['game_id', 'attempts_before_win'])\n",
    "df.to_csv('game_attempts_data.csv', index=False)"
   ]
  }
 ],
 "metadata": {
  "kernelspec": {
   "display_name": "Python 3",
   "language": "python",
   "name": "python3"
  },
  "language_info": {
   "codemirror_mode": {
    "name": "ipython",
    "version": 3
   },
   "file_extension": ".py",
   "mimetype": "text/x-python",
   "name": "python",
   "nbconvert_exporter": "python",
   "pygments_lexer": "ipython3",
   "version": "3.11.3"
  }
 },
 "nbformat": 4,
 "nbformat_minor": 5
}
