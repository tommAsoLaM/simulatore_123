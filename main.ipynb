{
 "cells": [
  {
   "cell_type": "code",
   "execution_count": 43,
   "id": "a3b2f302",
   "metadata": {},
   "outputs": [],
   "source": [
    "import random\n",
    "import matplotlib.pyplot as plt\n",
    "from collections import Counter\n",
    "import pandas as pd\n",
    "import numpy as np"
   ]
  },
  {
   "cell_type": "code",
   "execution_count": 44,
   "id": "2df003ce",
   "metadata": {},
   "outputs": [
    {
     "name": "stdout",
     "output_type": "stream",
     "text": [
      "[1, 1, 1, 1, 2, 2, 2, 2, 3, 3, 3, 3, 4, 4, 4, 4, 5, 5, 5, 5, 6, 6, 6, 6, 7, 7, 7, 7, 8, 8, 8, 8, 9, 9, 9, 9, 10, 10, 10, 10]\n"
     ]
    },
    {
     "data": {
      "text/plain": [
       "40"
      ]
     },
     "execution_count": 44,
     "metadata": {},
     "output_type": "execute_result"
    }
   ],
   "source": [
    "#creating the deck\n",
    "deck = []\n",
    "for i in range (1,11):\n",
    "    for j in range (1, 5):\n",
    "        deck.append(i)\n",
    "\n",
    "print(deck)\n",
    "len(deck)\n",
    "#the deck has been created"
   ]
  },
  {
   "cell_type": "code",
   "execution_count": 45,
   "id": "bb409fad",
   "metadata": {},
   "outputs": [],
   "source": [
    "#a simple, optimized and unbiased function to shuffle the deck\n",
    "def shuffle_deck(deck:list):\n",
    "    random.shuffle(deck)\n",
    "    return deck"
   ]
  },
  {
   "cell_type": "code",
   "execution_count": 46,
   "id": "b51bc088",
   "metadata": {},
   "outputs": [],
   "source": [
    "#one game simulation\n",
    "def game(deck):\n",
    "    game_won = True\n",
    "    match_num = 1\n",
    "    deck = shuffle_deck(deck)\n",
    "    for i in range (len(deck)):\n",
    "        if deck[i] == match_num:\n",
    "            game_won = False\n",
    "            break\n",
    "        match_num = (match_num + 1)%4\n",
    "        if match_num == 0: match_num = 1\n",
    "    return (game_won, i)"
   ]
  },
  {
   "cell_type": "code",
   "execution_count": 51,
   "id": "e48de3c3",
   "metadata": {},
   "outputs": [],
   "source": [
    "#simulating games over 10000 iterations\n",
    "all_data = []\n",
    "\n",
    "for i in range (10000):\n",
    "    times_tried = 1\n",
    "    won, card_number = game(deck)\n",
    "    sum_i = card_number\n",
    "    num_i = 1\n",
    "    max_i = min_i = card_number\n",
    "    while won == False:\n",
    "        times_tried +=1\n",
    "        won, card_number = game(deck)\n",
    "        num_i +=1\n",
    "        sum_i += card_number\n",
    "        if card_number>max_i:\n",
    "            max_i = card_number\n",
    "        if card_number<min_i:\n",
    "            min_i = card_number\n",
    "    data = {'attempts': times_tried, 'max_i': max_i, 'min_i': min_i, 'avg_i': (sum_i/num_i)}\n",
    "    all_data.append(data)\n",
    "    \n",
    "df = pd.DataFrame(all_data)\n",
    "df.to_csv('game_attempts_data.csv', index = False)\n",
    "\n",
    "    "
   ]
  },
  {
   "cell_type": "code",
   "execution_count": 48,
   "id": "e9fc0c76",
   "metadata": {},
   "outputs": [
    {
     "name": "stdout",
     "output_type": "stream",
     "text": [
      "      attempts  max_i  min_i     avg_i\n",
      "0          450     39      0  8.884444\n",
      "1           82     39      0  7.731707\n",
      "2           24     39      0  9.375000\n",
      "3          274     39      0  7.718978\n",
      "4           10     39      1  7.900000\n",
      "...        ...    ...    ...       ...\n",
      "9995       175     39      0  8.754286\n",
      "9996       245     39      0  8.404082\n",
      "9997       219     39      0  8.429224\n",
      "9998       154     39      0  8.785714\n",
      "9999       111     39      0  8.747748\n",
      "\n",
      "[10000 rows x 4 columns]\n"
     ]
    }
   ],
   "source": [
    "print(df)"
   ]
  },
  {
   "cell_type": "code",
   "execution_count": 52,
   "id": "1f9e3173",
   "metadata": {},
   "outputs": [
    {
     "name": "stdout",
     "output_type": "stream",
     "text": [
      "average number of attempts = 121.5245\n",
      "maximum number of attempts = 1197\n",
      "minimum number of attempts = 1\n",
      "standard deviation of attempts = 122.99478444125182\n",
      "variance number of attempts = 15127.716999750002\n"
     ]
    },
    {
     "data": {
      "image/png": "[encoded data removed]",
      "text/plain": [
       "<Figure size 640x480 with 1 Axes>"
      ]
     },
     "metadata": {},
     "output_type": "display_data"
    }
   ],
   "source": [
    "# Count how many times each number of attempts occurred\n",
    "\n",
    "attempt_counts = Counter(df['attempts'])\n",
    "vet = np.array(df['attempts'])\n",
    "print(f'average number of attempts = {vet.mean()}')\n",
    "print(f'maximum number of attempts = {vet.max()}')\n",
    "print(f'minimum number of attempts = {vet.min()}')\n",
    "std_attempts = vet.std()\n",
    "print(f'standard deviation of attempts = {std_attempts}')\n",
    "print(f'variance number of attempts = {std_attempts**2}')\n",
    "# Sort by number of attempts\n",
    "attempts = sorted(attempt_counts.keys())\n",
    "frequencies = [attempt_counts[a] for a in attempts]\n",
    "\n",
    "plt.bar(attempts, frequencies)\n",
    "plt.xlabel('Attempts before win')\n",
    "plt.ylabel('Number of games')\n",
    "plt.title('Distribution of attempts needed to win')\n",
    "plt.show()"
   ]
  }
 ],
 "metadata": {
  "kernelspec": {
   "display_name": "Python 3",
   "language": "python",
   "name": "python3"
  },
  "language_info": {
   "codemirror_mode": {
    "name": "ipython",
    "version": 3
   },
   "file_extension": ".py",
   "mimetype": "text/x-python",
   "name": "python",
   "nbconvert_exporter": "python",
   "pygments_lexer": "ipython3",
   "version": "3.11.3"
  }
 },
 "nbformat": 4,
 "nbformat_minor": 5
}
